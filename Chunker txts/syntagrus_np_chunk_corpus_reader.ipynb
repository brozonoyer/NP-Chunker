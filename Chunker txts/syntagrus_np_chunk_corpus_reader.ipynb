{
 "cells": [
  {
   "cell_type": "code",
   "execution_count": 4,
   "metadata": {
    "collapsed": true
   },
   "outputs": [],
   "source": [
    "from __future__ import unicode_literals\n",
    "\n",
    "import os\n",
    "import codecs\n",
    "import textwrap\n",
    "\n",
    "from six import string_types\n",
    "\n",
    "from nltk import compat\n",
    "from nltk.tree import Tree\n",
    "from nltk.util import LazyMap, LazyConcatenation\n",
    "from nltk.tag import map_tag\n",
    "\n",
    "from nltk.corpus.reader.util import *\n",
    "from nltk.corpus.reader.api import *\n",
    "\n",
    "class SynTagRusNPChunkCorpusReader(CorpusReader):\n",
    "    \"\"\"\n",
    "    Adapted from http://www.nltk.org/_modules/nltk/corpus/reader/conll.html#ConllCorpusReader\n",
    "    \"\"\"\n",
    "\n",
    "    #/////////////////////////////////////////////////////////////////\n",
    "    # Column Types\n",
    "    #/////////////////////////////////////////////////////////////////\n",
    "\n",
    "    IOB = 'iob'       #: column type for iob tags\n",
    "    WORD = 'word'     #: column type for word forms\n",
    "    LEMMA = 'lemma'   #: column type for lemmas\n",
    "    POS = 'pos'     #: column type for part-of-speech tags\n",
    "    FEATS = 'feats'   #: column type for other morphological features\n",
    "\n",
    "    #: A list of all column types supported by this corpus reader.\n",
    "    COLUMN_TYPES = (IOB, WORD, LEMMA, POS, FEATS)\n",
    "\n",
    "    #/////////////////////////////////////////////////////////////////\n",
    "    # Constructor\n",
    "    #/////////////////////////////////////////////////////////////////\n",
    "\n",
    "    def __init__(self, root, fileids, encoding='windows-1251', tagset=None):       \n",
    "        columntypes = ('iob','word', 'lemma', 'pos', 'feats')\n",
    "        self._colmap = dict((c,i) for (i,c) in enumerate(columntypes))\n",
    "        CorpusReader.__init__(self, root, fileids, encoding)\n",
    "        self._tagset = tagset\n",
    "\n",
    "    #/////////////////////////////////////////////////////////////////\n",
    "    # Data Access Methods\n",
    "    #/////////////////////////////////////////////////////////////////\n",
    "\n",
    "    def raw(self, fileids=None):\n",
    "        if fileids is None: fileids = self._fileids\n",
    "        elif isinstance(fileids, string_types): fileids = [fileids]\n",
    "        return concat([self.open(f).read() for f in fileids])\n",
    "\n",
    "\n",
    "    def words(self, fileids=None):\n",
    "        self._require(self.WORD)\n",
    "        return LazyConcatenation(LazyMap(self._get_words, self._grids(fileids)))\n",
    "\n",
    "\n",
    "    def sents(self, fileids=None):\n",
    "        self._require(self.WORD)\n",
    "        return LazyMap(self._get_words, self._grids(fileids))\n",
    "\n",
    "\n",
    "    def tagged_words(self, fileids=None, tagset=None):\n",
    "        self._require(self.WORD, self.POS)\n",
    "        def get_tagged_words(grid):\n",
    "            return self._get_tagged_words(grid, tagset)\n",
    "        return LazyConcatenation(LazyMap(get_tagged_words,\n",
    "                                         self._grids(fileids)))\n",
    "\n",
    "\n",
    "    def tagged_sents(self, fileids=None, tagset=None):\n",
    "        self._require(self.WORD, self.POS)\n",
    "        def get_tagged_words(grid):\n",
    "            return self._get_tagged_words(grid, tagset)\n",
    "        return LazyMap(get_tagged_words, self._grids(fileids))\n",
    "\n",
    "\n",
    "    def iob_words(self, fileids=None, tagset=None):\n",
    "        \"\"\"\n",
    "        :return: a list of iob/word/lemma/pos/feats tuples\n",
    "        :rtype: list(tuple)\n",
    "        :param fileids: the list of fileids that make up this corpus\n",
    "        :type fileids: None or str or list\n",
    "        \"\"\"\n",
    "        self._require(self.IOB, self.WORD,self.LEMMA, self.POS, self.FEATS)\n",
    "        def get_iob_words(grid):\n",
    "            return self._get_iob_words(grid, tagset)\n",
    "        return LazyConcatenation(LazyMap(get_iob_words, self._grids(fileids)))\n",
    "\n",
    "\n",
    "    def iob_sents(self, fileids=None, tagset=None):\n",
    "        \"\"\"\n",
    "        :return: a list of lists of word/tag/IOB tuples\n",
    "        :rtype: list(list)\n",
    "        :param fileids: the list of fileids that make up this corpus\n",
    "        :type fileids: None or str or list\n",
    "        \"\"\"\n",
    "        self._require(self.IOB, self.WORD,self.LEMMA, self.POS, self.FEATS)\n",
    "        def get_iob_words(grid):\n",
    "            return self._get_iob_words(grid, tagset)\n",
    "        return LazyMap(get_iob_words, self._grids(fileids))\n",
    "\n",
    "\n",
    "    #/////////////////////////////////////////////////////////////////\n",
    "    # Grid Reading\n",
    "    #/////////////////////////////////////////////////////////////////\n",
    "\n",
    "    def _grids(self, fileids=None):\n",
    "        # n.b.: we could cache the object returned here (keyed on\n",
    "        # fileids), which would let us reuse the same corpus view for\n",
    "        # different things (eg srl and parse trees).\n",
    "        return concat([StreamBackedCorpusView(fileid, self._read_grid_block,\n",
    "                                              encoding=enc)\n",
    "                       for (fileid, enc) in self.abspaths(fileids, True)])\n",
    "\n",
    "    def _read_grid_block(self, stream):\n",
    "        grids = []\n",
    "        for block in read_blankline_block(stream):\n",
    "            block = block.strip()\n",
    "            if not block: continue\n",
    "\n",
    "            grid = [line.split() for line in block.split('\\n')]\n",
    "\n",
    "            # If there's a docstart row, then discard. ([xx] eventually it\n",
    "            # would be good to actually use it)\n",
    "            if grid[0][self._colmap.get('word', 0)] == '-DOCSTART-':\n",
    "                del grid[0]\n",
    "\n",
    "            # Check that the grid is consistent.\n",
    "            for row in grid:\n",
    "                if len(row) != len(grid[0]):\n",
    "                    raise ValueError('Inconsistent number of columns:\\n%s'\n",
    "                                     % block)\n",
    "            grids.append(grid)\n",
    "        return grids\n",
    "\n",
    "    #/////////////////////////////////////////////////////////////////\n",
    "    # Transforms\n",
    "    #/////////////////////////////////////////////////////////////////\n",
    "    # given a grid, transform it into some representation (e.g.,\n",
    "    # a list of words or a parse tree).\n",
    "\n",
    "    def _get_words(self, grid):\n",
    "        return self._get_column(grid, self._colmap['word'])\n",
    "\n",
    "    def _get_tagged_words(self, grid, tagset=None):\n",
    "        pos_tags = self._get_column(grid, self._colmap['pos'])\n",
    "        if tagset and tagset != self._tagset:\n",
    "            pos_tags = [map_tag(self._tagset, tagset, t) for t in pos_tags]\n",
    "        return list(zip(self._get_column(grid, self._colmap['word']), pos_tags))\n",
    "\n",
    "    def _get_iob_words(self, grid, tagset=None):\n",
    "        pos_tags = self._get_column(grid, self._colmap['pos'])\n",
    "        if tagset and tagset != self._tagset:\n",
    "            pos_tags = [map_tag(self._tagset, tagset, t) for t in pos_tags]\n",
    "        return list(zip(self._get_column(grid, self._colmap['iob']), \n",
    "                        self._get_column(grid, self._colmap['word']), \n",
    "                        self._get_column(grid, self._colmap['lemma']), \n",
    "                        pos_tags,\n",
    "                        self._get_column(grid, self._colmap['feats'])))\n",
    "\n",
    "    #/////////////////////////////////////////////////////////////////\n",
    "    # Helper Methods\n",
    "    #/////////////////////////////////////////////////////////////////\n",
    "\n",
    "    def _require(self, *columntypes):\n",
    "        for columntype in columntypes:\n",
    "            if columntype not in self._colmap:\n",
    "                raise ValueError('This corpus does not contain a %s '\n",
    "                                 'column.' % columntype)\n",
    "\n",
    "    @staticmethod\n",
    "    def _get_column(grid, column_index):\n",
    "        return [grid[i][column_index] for i in range(len(grid))]"
   ]
  },
  {
   "cell_type": "code",
   "execution_count": 5,
   "metadata": {},
   "outputs": [],
   "source": [
    "r = SynTagRusNPChunkCorpusReader('./syntagrus_chunks',['SynTagRus_NP_Chunks.txt'])"
   ]
  },
  {
   "cell_type": "code",
   "execution_count": 6,
   "metadata": {
    "collapsed": true
   },
   "outputs": [],
   "source": [
    "sents = r.iob_sents()"
   ]
  },
  {
   "cell_type": "code",
   "execution_count": 7,
   "metadata": {},
   "outputs": [
    {
     "data": {
      "text/plain": [
       "43774"
      ]
     },
     "execution_count": 7,
     "metadata": {},
     "output_type": "execute_result"
    }
   ],
   "source": [
    "len(sents)"
   ]
  },
  {
   "cell_type": "code",
   "execution_count": 9,
   "metadata": {},
   "outputs": [
    {
     "data": {
      "text/plain": [
       "('O',\n",
       " 'производят',\n",
       " 'ПРОИЗВОДИТЬ',\n",
       " 'V',\n",
       " 'aspect=НЕСОВ|mood=ИЗЪЯВ|tense=НЕПРОШ|number=МН|person=3-Л')"
      ]
     },
     "execution_count": 9,
     "metadata": {},
     "output_type": "execute_result"
    }
   ],
   "source": [
    "sents[0][5]"
   ]
  },
  {
   "cell_type": "code",
   "execution_count": null,
   "metadata": {
    "collapsed": true
   },
   "outputs": [],
   "source": []
  }
 ],
 "metadata": {
  "kernelspec": {
   "display_name": "Python 3",
   "language": "python",
   "name": "python3"
  },
  "language_info": {
   "codemirror_mode": {
    "name": "ipython",
    "version": 3
   },
   "file_extension": ".py",
   "mimetype": "text/x-python",
   "name": "python",
   "nbconvert_exporter": "python",
   "pygments_lexer": "ipython3",
   "version": "3.6.1"
  }
 },
 "nbformat": 4,
 "nbformat_minor": 2
}
